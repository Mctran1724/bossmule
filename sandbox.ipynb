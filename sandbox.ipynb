{
 "cells": [
  {
   "cell_type": "code",
   "execution_count": 1,
   "metadata": {},
   "outputs": [],
   "source": [
    "import sheets\n",
    "from BossMule import BossingMule\n",
    "import pandas as pd\n",
    "from account import Account"
   ]
  },
  {
   "cell_type": "code",
   "execution_count": 2,
   "metadata": {},
   "outputs": [
    {
     "name": "stdout",
     "output_type": "stream",
     "text": [
      "Currently Artemisian sells 14 crystals. Replacing Chaos Crimson Queen with Hard Magnus\n",
      "Change in boss mule income: 14062500\n",
      "BiddleGrip sells 14 crystals of higher value. Will not add Pink Bean\n",
      "Currently GhostCount sells 14 crystals. Replacing Chaos Crimson Queen with Hard Magnus\n",
      "Change in boss mule income: 14062500\n",
      "MarkedCardd sells 14 crystals of higher value. Will not add Pink Bean\n",
      "Currently MarkedCardd sells 14 crystals. Replacing Chaos Crimson Queen with Chaos Gloom\n",
      "Change in boss mule income: 59986250\n",
      "Currently MarkedCardd sells 14 crystals. Replacing Chaos Pierre with Hard Verus Hilla\n",
      "Change in boss mule income: 109526250\n",
      "Currently MarkedCardd sells 14 crystals. Replacing Chaos Von Bon with Hard Darknell\n",
      "Change in boss mule income: 85980000\n",
      "PriorityQ sells 14 crystals of higher value. Will not add Pink Bean\n",
      "TwoCardMonte sells 14 crystals of higher value. Will not add Crimson Queen\n",
      "Currently TwoCardMonte sells 14 crystals. Replacing Chaos Pierre with Chaos Von Bon\n",
      "Change in boss mule income: 0\n",
      "Currently TwoCardMonte sells 14 crystals. Replacing Chaos Von Bon with Hard Magnus\n",
      "Change in boss mule income: 14062500\n",
      "Currently selling 19, removing 64000000 meso crystal from Pink Bean from BiddleGrip.\n",
      "Crystal for Pink Bean not currently being sold. Please choose one of ['Crimson Queen', 'Pierre', 'Von Bon', 'Zakum', 'Princess No', 'Magnus', 'Vellum', 'Papulatus', 'Akechi', 'Damien', 'Slime', 'Lucid', 'Will', 'Lotus']\n",
      "Currently selling 18, removing 64000000 meso crystal from Pink Bean from BowShuffle.\n",
      "Removing Chaos Pink Bean\n",
      "Currently selling 17, removing 64000000 meso crystal from Pink Bean from MarkedCardd.\n",
      "Crystal for Pink Bean not currently being sold. Please choose one of ['Zakum', 'Princess No', 'Magnus', 'Vellum', 'Damien', 'Lotus', 'Lucid', 'Papulatus', 'Gloom', 'Akechi', 'Slime', 'Will', 'Darknell', 'Verus Hilla']\n",
      "Currently selling 16, removing 64000000 meso crystal from Pink Bean from PriorityQ.\n",
      "Crystal for Pink Bean not currently being sold. Please choose one of ['Crimson Queen', 'Pierre', 'Von Bon', 'Zakum', 'Princess No', 'Magnus', 'Vellum', 'Papulatus', 'Akechi', 'Damien', 'Slime', 'Lucid', 'Will', 'Lotus']\n",
      "Currently selling 15, removing 81000000 meso crystal from Crimson Queen from Artemisian.\n",
      "Crystal for Crimson Queen not currently being sold. Please choose one of ['Pierre', 'Von Bon', 'Princess No', 'Magnus', 'Vellum', 'Papulatus', 'Akechi', 'Lucid', 'Gloom', 'Will', 'Darknell', 'Verus Hilla', 'Damien', 'Lotus']\n",
      "Currently selling 14, removing 81000000 meso crystal from Crimson Queen from BiddleGrip.\n",
      "Removing Chaos Crimson Queen\n",
      "Currently selling 13, removing 81000000 meso crystal from Crimson Queen from BowShuffle.\n",
      "Removing Chaos Crimson Queen\n",
      "Currently selling 12, removing 81000000 meso crystal from Crimson Queen from CardBreak.\n",
      "Removing Chaos Crimson Queen\n",
      "Currently selling 11, removing 81000000 meso crystal from Crimson Queen from CenterDeal.\n",
      "Removing Chaos Crimson Queen\n",
      "Currently selling 10, removing 81000000 meso crystal from Crimson Queen from Eunwolnut.\n",
      "Removing Chaos Crimson Queen\n",
      "Currently selling 9, removing 81000000 meso crystal from Crimson Queen from FalseShuffle.\n",
      "Removing Chaos Crimson Queen\n",
      "Currently selling 8, removing 81000000 meso crystal from Crimson Queen from GhostCount.\n",
      "Crystal for Crimson Queen not currently being sold. Please choose one of ['Pierre', 'Von Bon', 'Princess No', 'Magnus', 'Vellum', 'Papulatus', 'Akechi', 'Damien', 'Lotus', 'Lucid', 'Gloom', 'Will', 'Darknell', 'Verus Hilla']\n",
      "Currently selling 7, removing 81000000 meso crystal from Crimson Queen from IceCicles.\n",
      "Removing Chaos Crimson Queen\n",
      "Currently selling 6, removing 81000000 meso crystal from Crimson Queen from MarkedCardd.\n",
      "Crystal for Crimson Queen not currently being sold. Please choose one of ['Zakum', 'Princess No', 'Magnus', 'Vellum', 'Damien', 'Lotus', 'Lucid', 'Papulatus', 'Gloom', 'Akechi', 'Slime', 'Will', 'Darknell', 'Verus Hilla']\n",
      "Currently selling 5, removing 81000000 meso crystal from Crimson Queen from PriorityQ.\n",
      "Removing Chaos Crimson Queen\n",
      "Currently selling 4, removing 81000000 meso crystal from Crimson Queen from SnapVanish.\n",
      "Removing Chaos Crimson Queen\n",
      "Currently selling 3, removing 81000000 meso crystal from Crimson Queen from TheFalseCut.\n",
      "Removing Chaos Crimson Queen\n",
      "Currently selling 2, removing 81000000 meso crystal from Crimson Queen from TwoCardMonte.\n",
      "Crystal for Crimson Queen not currently being sold. Please choose one of ['Princess No', 'Magnus', 'Vellum', 'Papulatus', 'Akechi', 'Damien', 'Lotus', 'Kalos', 'Lucid', 'Seren', 'Gloom', 'Will', 'Darknell', 'Verus Hilla']\n",
      "Currently selling 1, removing 81000000 meso crystal from Pierre from Artemisian.\n",
      "Removing Chaos Pierre\n",
      "Account with 15 bossing characters. 39299921114 mesos with 180 sold\n",
      "{'Artemisian': ['Von Bon', 'Princess No', 'Magnus', 'Vellum', 'Papulatus', 'Akechi', 'Lucid', 'Gloom', 'Will', 'Darknell', 'Verus Hilla', 'Damien', 'Lotus'], 'BiddleGrip': ['Pierre', 'Von Bon', 'Zakum', 'Princess No', 'Magnus', 'Vellum', 'Papulatus', 'Akechi', 'Damien', 'Slime', 'Lucid', 'Will', 'Lotus'], 'BowShuffle': ['Pierre', 'Von Bon', 'Zakum', 'Princess No', 'Magnus', 'Vellum', 'Papulatus', 'Akechi', 'Lotus', 'Damien', 'Slime'], 'CardBreak': ['Pierre', 'Von Bon', 'Zakum', 'Princess No', 'Magnus', 'Vellum', 'Papulatus', 'Akechi', 'Lotus', 'Damien', 'Slime'], 'CenterDeal': ['Pierre', 'Von Bon', 'Zakum', 'Princess No', 'Magnus', 'Vellum', 'Papulatus', 'Akechi', 'Lotus', 'Damien', 'Slime', 'Lucid'], 'Eunwolnut': ['Pierre', 'Von Bon', 'Zakum', 'Princess No', 'Magnus', 'Vellum', 'Papulatus', 'Akechi', 'Lotus', 'Damien', 'Slime'], 'FalseShuffle': ['Pierre', 'Von Bon', 'Zakum', 'Princess No', 'Magnus', 'Vellum', 'Papulatus', 'Akechi', 'Lotus', 'Damien', 'Slime'], 'GhostCount': ['Pierre', 'Von Bon', 'Princess No', 'Magnus', 'Vellum', 'Papulatus', 'Akechi', 'Damien', 'Lotus', 'Lucid', 'Gloom', 'Will', 'Darknell', 'Verus Hilla'], 'IceCicles': ['Pierre', 'Von Bon', 'Zakum', 'Princess No', 'Magnus', 'Vellum', 'Papulatus', 'Akechi', 'Lotus', 'Damien', 'Slime', 'Lucid'], 'MarkedCardd': ['Zakum', 'Princess No', 'Magnus', 'Vellum', 'Damien', 'Lotus', 'Lucid', 'Papulatus', 'Gloom', 'Akechi', 'Slime', 'Will', 'Darknell', 'Verus Hilla'], 'PriorityQ': ['Pierre', 'Von Bon', 'Zakum', 'Princess No', 'Magnus', 'Vellum', 'Papulatus', 'Akechi', 'Damien', 'Slime', 'Lucid', 'Will', 'Lotus'], 'SecondDeaI': ['Vellum', 'Papulatus', 'Akechi', 'Kaling', 'Damien', 'Lucid', 'Gloom', 'Slime', 'Will', 'Darknell', 'Verus Hilla', 'Seren', 'Kalos', 'Lotus'], 'SnapVanish': ['Pierre', 'Von Bon', 'Zakum', 'Princess No', 'Magnus', 'Vellum', 'Papulatus', 'Akechi', 'Lotus', 'Damien', 'Slime', 'Lucid'], 'TheFalseCut': ['Pierre', 'Von Bon', 'Zakum', 'Princess No', 'Magnus', 'Vellum', 'Papulatus', 'Akechi', 'Lotus', 'Damien', 'Slime', 'Lucid'], 'TwoCardMonte': ['Princess No', 'Magnus', 'Vellum', 'Papulatus', 'Akechi', 'Damien', 'Lotus', 'Kalos', 'Lucid', 'Seren', 'Gloom', 'Will', 'Darknell', 'Verus Hilla']}\n"
     ]
    }
   ],
   "source": [
    "my_account_spreadsheet_url = \"https://docs.google.com/spreadsheets/d/1-LOEXqRyDN923dNaG6kmogCqdKQzUSl34wqwNJvPqqY/edit?usp=sharing\"\n",
    "my_account = Account(my_account_spreadsheet_url)\n",
    "print(my_account)\n",
    "print(my_account.view_bosses())"
   ]
  },
  {
   "cell_type": "code",
   "execution_count": 5,
   "metadata": {},
   "outputs": [
    {
     "name": "stdout",
     "output_type": "stream",
     "text": [
      "Artemisian ['Von Bon', 'Princess No', 'Magnus', 'Vellum', 'Papulatus', 'Akechi', 'Lucid', 'Gloom', 'Will', 'Darknell', 'Verus Hilla', 'Damien', 'Lotus']\n",
      "BiddleGrip ['Pierre', 'Von Bon', 'Zakum', 'Princess No', 'Magnus', 'Vellum', 'Papulatus', 'Akechi', 'Damien', 'Slime', 'Lucid', 'Will', 'Lotus']\n",
      "BowShuffle ['Pierre', 'Von Bon', 'Zakum', 'Princess No', 'Magnus', 'Vellum', 'Papulatus', 'Akechi', 'Lotus', 'Damien', 'Slime']\n",
      "CardBreak ['Pierre', 'Von Bon', 'Zakum', 'Princess No', 'Magnus', 'Vellum', 'Papulatus', 'Akechi', 'Lotus', 'Damien', 'Slime']\n",
      "CenterDeal ['Pierre', 'Von Bon', 'Zakum', 'Princess No', 'Magnus', 'Vellum', 'Papulatus', 'Akechi', 'Lotus', 'Damien', 'Slime', 'Lucid']\n",
      "Eunwolnut ['Pierre', 'Von Bon', 'Zakum', 'Princess No', 'Magnus', 'Vellum', 'Papulatus', 'Akechi', 'Lotus', 'Damien', 'Slime']\n",
      "FalseShuffle ['Pierre', 'Von Bon', 'Zakum', 'Princess No', 'Magnus', 'Vellum', 'Papulatus', 'Akechi', 'Lotus', 'Damien', 'Slime']\n",
      "GhostCount ['Pierre', 'Von Bon', 'Princess No', 'Magnus', 'Vellum', 'Papulatus', 'Akechi', 'Damien', 'Lotus', 'Lucid', 'Gloom', 'Will', 'Darknell', 'Verus Hilla']\n",
      "IceCicles ['Pierre', 'Von Bon', 'Zakum', 'Princess No', 'Magnus', 'Vellum', 'Papulatus', 'Akechi', 'Lotus', 'Damien', 'Slime', 'Lucid']\n",
      "MarkedCardd ['Zakum', 'Princess No', 'Magnus', 'Vellum', 'Damien', 'Lotus', 'Lucid', 'Papulatus', 'Gloom', 'Akechi', 'Slime', 'Will', 'Darknell', 'Verus Hilla']\n",
      "PriorityQ ['Pierre', 'Von Bon', 'Zakum', 'Princess No', 'Magnus', 'Vellum', 'Papulatus', 'Akechi', 'Damien', 'Slime', 'Lucid', 'Will', 'Lotus']\n",
      "SecondDeaI ['Vellum', 'Papulatus', 'Akechi', 'Kaling', 'Damien', 'Lucid', 'Gloom', 'Slime', 'Will', 'Darknell', 'Verus Hilla', 'Seren', 'Kalos', 'Lotus']\n",
      "SnapVanish ['Pierre', 'Von Bon', 'Zakum', 'Princess No', 'Magnus', 'Vellum', 'Papulatus', 'Akechi', 'Lotus', 'Damien', 'Slime', 'Lucid']\n",
      "TheFalseCut ['Pierre', 'Von Bon', 'Zakum', 'Princess No', 'Magnus', 'Vellum', 'Papulatus', 'Akechi', 'Lotus', 'Damien', 'Slime', 'Lucid']\n",
      "TwoCardMonte ['Princess No', 'Magnus', 'Vellum', 'Papulatus', 'Akechi', 'Damien', 'Lotus', 'Kalos', 'Lucid', 'Seren', 'Gloom', 'Will', 'Darknell', 'Verus Hilla']\n"
     ]
    }
   ],
   "source": [
    "for bosser in my_account.view_bosses():\n",
    "    print(bosser, my_account.view_bosses()[bosser])"
   ]
  },
  {
   "cell_type": "code",
   "execution_count": null,
   "metadata": {},
   "outputs": [
    {
     "data": {
      "text/plain": [
       "BossingMule Test1, 0 crystals for 0 mesos."
      ]
     },
     "execution_count": 8,
     "metadata": {},
     "output_type": "execute_result"
    }
   ],
   "source": []
  },
  {
   "cell_type": "code",
   "execution_count": 26,
   "metadata": {},
   "outputs": [
    {
     "name": "stdout",
     "output_type": "stream",
     "text": [
      "Removing Normal Princess No\n",
      "Removing Hard Magnus\n",
      "Removing Chaos Vellum\n",
      "Removing Chaos Papulatus\n",
      "Removing Normal Akechi\n",
      "Removing Hard Damien\n",
      "Removing Hard Lotus\n",
      "Removing Easy Kalos\n",
      "Removing Hard Lucid\n",
      "Removing Hard Seren\n",
      "Removing Chaos Gloom\n",
      "Removing Hard Will\n",
      "Removing Hard Darknell\n",
      "Removing Hard Verus Hilla\n"
     ]
    }
   ],
   "source": [
    "#clear tester\n",
    "\n",
    "for boss in tester.bosses_run():\n",
    "    tester.remove_crystal(boss)"
   ]
  },
  {
   "cell_type": "code",
   "execution_count": null,
   "metadata": {},
   "outputs": [],
   "source": [
    "def batch_insert_bosses(bossmule: BossingMule, group: pd.DataFrame) -> None:\n",
    "    for index, charname, difficulty, boss_name, party_size in group.itertuples():\n",
    "        try:\n",
    "            bossmule.add_crystal(boss_name, difficulty, party_size)\n",
    "            print(f\"Adding {difficulty} {boss_name}\")\n",
    "        except ValueError as e:\n",
    "            print(e)\n",
    "    return bossmule\n"
   ]
  },
  {
   "cell_type": "code",
   "execution_count": 33,
   "metadata": {},
   "outputs": [
    {
     "data": {
      "text/plain": [
       "array(['SecondDeaI', 'TwoCardMonte', 'GhostCount', 'Artemisian',\n",
       "       'PriorityQ', 'BiddleGrip', 'SnapVanish', 'TheFalseCut',\n",
       "       'BowShuffle', 'CenterDeal', 'CardBreak', 'IceCicles',\n",
       "       'FalseShuffle', 'Eunwolnut', 'MarkedCardd'], dtype=object)"
      ]
     },
     "execution_count": 33,
     "metadata": {},
     "output_type": "execute_result"
    }
   ],
   "source": [
    "df['Character'].unique()"
   ]
  },
  {
   "cell_type": "code",
   "execution_count": 32,
   "metadata": {},
   "outputs": [
    {
     "data": {
      "text/plain": [
       "(17, 4)"
      ]
     },
     "execution_count": 32,
     "metadata": {},
     "output_type": "execute_result"
    }
   ],
   "source": [
    "df.loc[df['Character'] == 'TwoCardMonte'].shape"
   ]
  },
  {
   "cell_type": "code",
   "execution_count": null,
   "metadata": {},
   "outputs": [],
   "source": []
  }
 ],
 "metadata": {
  "kernelspec": {
   "display_name": "maplestory",
   "language": "python",
   "name": "python3"
  },
  "language_info": {
   "codemirror_mode": {
    "name": "ipython",
    "version": 3
   },
   "file_extension": ".py",
   "mimetype": "text/x-python",
   "name": "python",
   "nbconvert_exporter": "python",
   "pygments_lexer": "ipython3",
   "version": "3.11.4"
  }
 },
 "nbformat": 4,
 "nbformat_minor": 2
}
